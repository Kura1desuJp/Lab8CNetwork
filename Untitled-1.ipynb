{
 "cells": [
  {
   "cell_type": "code",
   "execution_count": 1,
   "id": "658fe160",
   "metadata": {},
   "outputs": [
    {
     "name": "stdout",
     "output_type": "stream",
     "text": [
      "ID: 14\n",
      "Ім'я: Gillam\n",
      "Стать: Male\n",
      "Культура: \n"
     ]
    }
   ],
   "source": [
    "import requests\n",
    "import json\n",
    "\n",
    "# 1. Генератор випадкових чисел від 1 до 100\n",
    "def custom_random():\n",
    "    from time import time\n",
    "    seed = int((time() * 1000000) % 1000000)\n",
    "    seed = (seed * 9301 + 49297) % 233280\n",
    "    return seed % 100 + 1\n",
    "\n",
    "# 2. Отримуємо випадкове ID\n",
    "random_id = custom_random()\n",
    "\n",
    "# 3. Динамічне формування URL\n",
    "url = f\"https://anapioficeandfire.com/api/characters/{random_id}\"\n",
    "\n",
    "# 4. Запит до API\n",
    "response = requests.get(url)\n",
    "\n",
    "# 5. Парсимо JSON у Python-об'єкт\n",
    "if response.status_code == 200:\n",
    "    data = response.json()\n",
    "    \n",
    "    # 6. Виводимо потрібні елементи\n",
    "    name = data.get(\"name\", \"Невідоме ім'я\")\n",
    "    gender = data.get(\"gender\", \"Невідома стать\")\n",
    "    culture = data.get(\"culture\", \"Невідома культура\")\n",
    "    \n",
    "    print(f\"ID: {random_id}\")\n",
    "    print(f\"Ім'я: {name}\")\n",
    "    print(f\"Стать: {gender}\")\n",
    "    print(f\"Культура: {culture}\")\n",
    "else:\n",
    "    print(f\"Не вдалося отримати дані з API (ID: {random_id})\")\n"
   ]
  }
 ],
 "metadata": {
  "kernelspec": {
   "display_name": "Python 3",
   "language": "python",
   "name": "python3"
  },
  "language_info": {
   "codemirror_mode": {
    "name": "ipython",
    "version": 3
   },
   "file_extension": ".py",
   "mimetype": "text/x-python",
   "name": "python",
   "nbconvert_exporter": "python",
   "pygments_lexer": "ipython3",
   "version": "3.13.3"
  }
 },
 "nbformat": 4,
 "nbformat_minor": 5
}
